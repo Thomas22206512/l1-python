{
 "cells": [
  {
   "cell_type": "markdown",
   "metadata": {
    "slideshow": {
     "slide_type": "slide"
    }
   },
   "source": [
    "# TD 2: Les structures de contrôle\n",
    "\n",
    "---\n",
    "\n",
    "## 0. Récupération des nouveaux documents\n",
    "\n",
    "\n",
    "Les sujets de TD ainsi que les supports de cours sont publiés en ligne au fur et à mesure sur l'espace github original [https://github.com/uvsq-info/l1-python](https://github.com/uvsq-info/l1-python). Au moment où vous avez fait le fork de cet espace sur votre espace personnel, il est probable que tous les contenus n'étaient pas présents. Pour compléter votre espace, deux solutions sont possibles:\n",
    "\n",
    "\n",
    "1. (solution à privilégier) aller sur la page du projet original [https://github.com/uvsq-info/l1-python](https://github.com/uvsq-info/l1-python), et cliquer sur le bouton vert `Code` en haut à droite. Choisir `download ZIP`, puis extraire l'ensemble des nouveaux fichiers vers votre projet personnel local. Vous pouvez ensuite sauvegarder ces ajouts dans votre espace github personnel en suivant la procédure habituelle.\n",
    "2. (solution qui présente des risques de conflits entre différentes versions d'un même document) en ligne de commande dans le terminal, en suivant la procédure de la section *Intégrer les mises à jour du projet original* du fichier [README.md](https://github.com/uvsq-info/l1-python/blob/master/README.md#int%C3%A9grer-les-mises-%C3%A0-jour-du-projet-original)\n"
   ]
  },
  {
   "cell_type": "markdown",
   "metadata": {
    "slideshow": {
     "slide_type": "slide"
    }
   },
   "source": [
    "---\n",
    "\n",
    "## 1. Premiers exercices avec les structures conditionnelles\n",
    "\n",
    "**Exercice 1:**\n",
    "\n",
    "1. Soit *num1 = 15* et *num2 = 5*. Ecrire un programme qui affiche *Factors!* si l'un des nombres est un facteur de l'autre (c'est-à-dire qu'il divise l'autre nombre). Si aucun des nombres n'est un facteur de l'autre, le programme n'affiche rien.\n",
    "2. Changer le code que vous avez écrit de telle sorte qu'il affiche toujours *Factors!* si un nombre est un facteur de l'autre, mais qui affiche aussi *Not factors!* si aucun des nombres n'est un facteur de l'autre."
   ]
  },
  {
   "cell_type": "code",
   "execution_count": 5,
   "metadata": {
    "slideshow": {
     "slide_type": "notes"
    }
   },
   "outputs": [
    {
     "name": "stdout",
     "output_type": "stream",
     "text": [
      "Factors!\n"
     ]
    }
   ],
   "source": [
    "num1 = 15\n",
    "num2 = 5\n",
    "if num1 % num2 or num2 % num1 == 0 :\n",
    "    print(\"Factors!\")\n",
    "else :\n",
    "    prin(\"Not Factor!\")\n"
   ]
  },
  {
   "cell_type": "markdown",
   "metadata": {
    "slideshow": {
     "slide_type": "slide"
    }
   },
   "source": [
    "**Exercice 2:**\n",
    "    \n",
    "Soit *state = \"Georgia\"*. Ecrire un programme qui permet d'afficher un message spécifique en fonction de la variable *state* :  \n",
    "* \"School isn't cancelled.\" si nous sommes à New Jersey,  \n",
    "* \"School is postponed.\" si nous sommes à North Carolina,\n",
    "* \"School is cancelled!\" si nous sommes à Georgia,  \n",
    "* \"School's status is unknown\" si nous ne sommes pas dans un des trois états précédemment mentionnés."
   ]
  },
  {
   "cell_type": "code",
   "execution_count": 14,
   "metadata": {
    "slideshow": {
     "slide_type": "notes"
    }
   },
   "outputs": [
    {
     "name": "stdout",
     "output_type": "stream",
     "text": [
      "School is cancelled!\n"
     ]
    }
   ],
   "source": [
    "state = \"Georgia\"\n",
    "if state == \"New Jersey\" :\n",
    "    print(\"School isn't cancelled.\")\n",
    "else :\n",
    "    if state == \"North Carolina\" :\n",
    "        print(\"School is postponed.\")\n",
    "    else :\n",
    "        if state == \"Georgia\" :\n",
    "            print(\"School is cancelled!\")\n",
    "        else :\n",
    "            print(\"School's status is unknown\")"
   ]
  },
  {
   "cell_type": "markdown",
   "metadata": {
    "slideshow": {
     "slide_type": "slide"
    }
   },
   "source": [
    "**Exercice 3:**\n",
    "\n",
    "Ecrire un programme pour découvrir le signe du zodiaque chinois pour une année donnée. Le signe du zodiaque chinois est basé sur un cycle de 12 ans et chaque année de ce cycle est représentée par un animal :\n",
    "* 0: monkey\n",
    "* 1: rooster\n",
    "* 2: dog\n",
    "* 3: pig\n",
    "* 4: rat\n",
    "* 5: ox\n",
    "* 6: tiger\n",
    "* 7: rabbit\n",
    "* 8: dragon\n",
    "* 9: snake\n",
    "* 10: horse\n",
    "* 11: sheep\n",
    "\n",
    "La valeur de l'année % 12 détermine le signe du zodiaque. Par exemple, 1900 est l'année du *rat* puisque 1900 % 12 est 4."
   ]
  },
  {
   "cell_type": "code",
   "execution_count": 24,
   "metadata": {
    "slideshow": {
     "slide_type": "notes"
    }
   },
   "outputs": [
    {
     "name": "stdout",
     "output_type": "stream",
     "text": [
      "Tiger\n"
     ]
    }
   ],
   "source": [
    "année_zodiaque = int(input(\"Entrer une année svp\"))\n",
    "zodiaque = int(année_zodiaque) % 12 \n",
    "\n",
    "if zodiaque == 0 :\n",
    "    print(\"monkey\")\n",
    "elif zodiaque == 1 :\n",
    "    print(\"Rooster\")\n",
    "elif zodiaque == 2 :\n",
    "    print(\"Dog\")\n",
    "elif zodiaque == 3 :\n",
    "    print(\"Pig\")\n",
    "elif zodiaque == 4 :\n",
    "    print(\"Rat\")\n",
    "elif zodiaque == 5 :\n",
    "    print(\"Ox\")\n",
    "elif zodiaque == 6 :\n",
    "    print(\"Tiger\")\n",
    "elif zodiaque == 7 :\n",
    "    print(\"rabbit\")\n",
    "elif zodiaque == 8 :\n",
    "    print(\"Dragon\")\n",
    "elif zodiaque == 9 :\n",
    "    print(\"Snake\")\n",
    "elif zodiaque == 10 :\n",
    "    print(\"Horse\")\n",
    "elif zodiaque == 11 :\n",
    "    print(\"Sheep\")"
   ]
  },
  {
   "cell_type": "code",
   "execution_count": 38,
   "metadata": {},
   "outputs": [
    {
     "name": "stdout",
     "output_type": "stream",
     "text": [
      "monkey\n"
     ]
    }
   ],
   "source": [
    "zodiaque = [\"monkey\", \"rooster\", \"Dog\", \"Pig\", \"Rat\", \"Ox\", \"Tiger\"]\n",
    "year = 2004\n",
    "print(zodiaque[year % 12])"
   ]
  },
  {
   "cell_type": "markdown",
   "metadata": {
    "slideshow": {
     "slide_type": "slide"
    }
   },
   "source": [
    "**Exercice 4:**\n",
    "\n",
    "Soit *temperature = -3.7* et *celsius = True*. *celsius* est une variable booléenne qui indique si la température est en Celsius; si c'est *False*, alors la température donnée est en Fahrenheit. Ecrire un premier programme en utilisant *if-else* seulement qui permet d'afficher *Freezing* si les valeurs données représentent une température très basse, et *Not freezing* si ce n'est pas le cas. En Celsius, on considère qu'il fait très froid lorsque la température est inférieure ou égale à 0 degré. En Fahrenheit, on considère qu'il fait très froid lorsque la température est inférieure ou égale à 32 degrés. Proposer une seconde solution en utilisant *if-elif-else* à ce même problème."
   ]
  },
  {
   "cell_type": "code",
   "execution_count": 25,
   "metadata": {
    "slideshow": {
     "slide_type": "notes"
    }
   },
   "outputs": [
    {
     "name": "stdout",
     "output_type": "stream",
     "text": [
      "Freezing\n"
     ]
    }
   ],
   "source": [
    "temperature = -3.7\n",
    "celsius = True\n",
    "\n",
    "if temperature <= 0 :\n",
    "    print(\"Freezing\")\n",
    "else :\n",
    "    print(\"Not freezing\")\n",
    "\n"
   ]
  },
  {
   "cell_type": "code",
   "execution_count": 31,
   "metadata": {},
   "outputs": [
    {
     "name": "stdout",
     "output_type": "stream",
     "text": [
      "Freezing\n"
     ]
    }
   ],
   "source": [
    "temperature = -3.7\n",
    "celsius = True\n",
    "\n",
    "if celsius == True and temperature <= 0 :\n",
    "    print(\"Freezing\")\n",
    "elif celsius == True and temperature > 0 :\n",
    "    print(\"Not Freezing\")\n",
    "if celsius == False and temperature <= 32 :\n",
    "    print (\"Freezing\")\n",
    "elif celsius == False and temperature > 32 :\n",
    "    print(\"Not Freezing\")"
   ]
  },
  {
   "cell_type": "markdown",
   "metadata": {
    "slideshow": {
     "slide_type": "slide"
    }
   },
   "source": [
    "**Exercice 5:**\n",
    "    \n",
    "Ecrire un programme qui permet de déterminer si une année est bissextile ou non en utilisant une seule instruction *if-else*. Une année *A* est bissextile si *A* est divisible par 4. Elle ne l’est cependant pas si *A* est un multiple\n",
    "de 100, à moins que *A* ne soit multiple de 400.    "
   ]
  },
  {
   "cell_type": "code",
   "execution_count": 1,
   "metadata": {
    "slideshow": {
     "slide_type": "notes"
    }
   },
   "outputs": [
    {
     "name": "stdout",
     "output_type": "stream",
     "text": [
      "Ce n'est pas une année bissextile\n"
     ]
    },
    {
     "ename": "ValueError",
     "evalue": "invalid literal for int() with base 10: ''",
     "output_type": "error",
     "traceback": [
      "\u001b[1;31m---------------------------------------------------------------------------\u001b[0m",
      "\u001b[1;31mValueError\u001b[0m                                Traceback (most recent call last)",
      "Cell \u001b[1;32mIn [1], line 7\u001b[0m\n\u001b[0;32m      4\u001b[0m \u001b[39melse\u001b[39;00m :\n\u001b[0;32m      5\u001b[0m     \u001b[39mprint\u001b[39m(\u001b[39m\"\u001b[39m\u001b[39mCe n\u001b[39m\u001b[39m'\u001b[39m\u001b[39mest pas une année bissextile\u001b[39m\u001b[39m\"\u001b[39m)\n\u001b[1;32m----> 7\u001b[0m annee \u001b[39m=\u001b[39m \u001b[39mint\u001b[39;49m(\u001b[39minput\u001b[39;49m(\u001b[39m\"\u001b[39;49m\u001b[39mEntrez l annee a verifier:\u001b[39;49m\u001b[39m\"\u001b[39;49m))\n",
      "\u001b[1;31mValueError\u001b[0m: invalid literal for int() with base 10: ''"
     ]
    }
   ],
   "source": [
    "A = int(input(\"Entrer une année svp\"))\n",
    "if A % 4 == 0 and A % 100 != 0 or A % 400 == 0 :\n",
    "    print(\"C'est une année bissextile\")\n",
    "else :\n",
    "    print(\"Ce n'est pas une année bissextile\")\n",
    "\n",
    "annee = int(input(\"Entrez l annee a verifier:\"))\n"
   ]
  },
  {
   "cell_type": "markdown",
   "metadata": {},
   "source": [
    "---\n",
    "\n",
    "## 2. Premiers exercices avec les structures itératives\n",
    "\n",
    "**Exercice 6:**\n",
    "\n",
    "1. Ecrire un programme qui permet d'afficher tous les nombres entre 1 et 10 (bornes incluses).\n",
    "2. Ecrire un programme se limitant à la boucle *for* qui permet d'afficher tous les nombres pairs entre 1 et 20 (bornes incluses). Proposer une deuxième solution en incluant une structure conditionnelle."
   ]
  },
  {
   "cell_type": "code",
   "execution_count": 37,
   "metadata": {},
   "outputs": [
    {
     "name": "stdout",
     "output_type": "stream",
     "text": [
      "1\n",
      "2\n",
      "3\n",
      "4\n",
      "5\n",
      "6\n",
      "7\n",
      "8\n",
      "9\n",
      "10\n"
     ]
    }
   ],
   "source": [
    "for i in range (1,11) :\n",
    "    print(i)"
   ]
  },
  {
   "cell_type": "code",
   "execution_count": 39,
   "metadata": {},
   "outputs": [
    {
     "name": "stdout",
     "output_type": "stream",
     "text": [
      "2\n",
      "4\n",
      "6\n",
      "8\n",
      "10\n",
      "12\n",
      "14\n",
      "16\n",
      "18\n",
      "20\n"
     ]
    }
   ],
   "source": [
    "for i in range (2,21,2) :\n",
    "    print(i)"
   ]
  },
  {
   "cell_type": "code",
   "execution_count": 41,
   "metadata": {},
   "outputs": [
    {
     "name": "stdout",
     "output_type": "stream",
     "text": [
      "2\n",
      "4\n",
      "6\n",
      "8\n",
      "10\n",
      "12\n",
      "14\n",
      "16\n",
      "18\n",
      "20\n"
     ]
    }
   ],
   "source": [
    "for i in range (1,21) :\n",
    "    if i % 2 == 0 :\n",
    "        print(i)"
   ]
  },
  {
   "cell_type": "markdown",
   "metadata": {},
   "source": [
    "**Exercice 7:**\n",
    "    \n",
    "1. Ecrire un programme qui demande à l'utilisateur de saisir *n* nombres, *n* étant choisi par l'utilisateur, puis d'afficher la moyenne de ces nombres.\n",
    "\n",
    "2. Même question, mais l'utilisateur ne choisit pas à l'avance le nombre *n*, la procédure s'arrête quand il saisit le nombre -1.\n"
   ]
  },
  {
   "cell_type": "code",
   "execution_count": 1,
   "metadata": {},
   "outputs": [
    {
     "name": "stdout",
     "output_type": "stream",
     "text": [
      "39.333333333333336\n"
     ]
    }
   ],
   "source": [
    "n = int(input(\"Entrer le nombre de saisi\"))\n",
    "nfinal = 0\n",
    "for n1 in range (0, n) :\n",
    "    nx = float(input(\"Entrer un nombre\"))\n",
    "    nfinal = nfinal + nx\n",
    "print(nfinal / n)\n"
   ]
  },
  {
   "cell_type": "code",
   "execution_count": 5,
   "metadata": {},
   "outputs": [
    {
     "name": "stdout",
     "output_type": "stream",
     "text": [
      "3.533333333333333\n"
     ]
    }
   ],
   "source": [
    "n = 0\n",
    "nfois = 0\n",
    "ntotal = 0\n",
    "while n != -1 :\n",
    "    n = float(input(\"Entrer un nombre\"))\n",
    "    nfois += 1\n",
    "    ntotal =  ntotal + n\n",
    "print(ntotal / nfois)"
   ]
  },
  {
   "cell_type": "markdown",
   "metadata": {},
   "source": [
    "**Exercice 8:**\n",
    "\n",
    "Ecrire un programme qui permet de calculer le factoriel d'un nombre positif donné par l'utlisateur selon la formule suivante : \n",
    "n! = 1 x 2 x ... x n.  \n",
    "\n",
    "1. Une première version en utilisant la boucle *for*\n",
    "2. Une seconde version en utilisant la boucle *while*"
   ]
  },
  {
   "cell_type": "code",
   "execution_count": 32,
   "metadata": {},
   "outputs": [
    {
     "name": "stdout",
     "output_type": "stream",
     "text": [
      "Le factoriel de 6 est 720\n"
     ]
    }
   ],
   "source": [
    "n = int(input(\"Entrer un nombre positif\"))\n",
    "if n < 0 :\n",
    "    print(\"Entrer un nombre positif\")\n",
    "else :\n",
    "    ntotal = 1\n",
    "    for nrange in range (1, n+1) :\n",
    "        ntotal = ntotal * nrange\n",
    "print(\"Le factoriel de\", n, \"est\", ntotal)\n",
    "\n",
    "\n"
   ]
  },
  {
   "cell_type": "code",
   "execution_count": 31,
   "metadata": {},
   "outputs": [
    {
     "name": "stdout",
     "output_type": "stream",
     "text": [
      "Le factoriel de 6 est 720\n"
     ]
    }
   ],
   "source": [
    "n = int(input(\"Entrer un nombre positif\"))\n",
    "if n <= 0 :\n",
    "    print(\"Entrer un nombre positif\")\n",
    "else :\n",
    "    ntotal = 1\n",
    "    ncompte = 1\n",
    "    while ntotal != n :\n",
    "        ntotal += 1\n",
    "        ncompte = ncompte * ntotal\n",
    "    print(\"Le factoriel de\", n, \"est\", ncompte)\n",
    "\n"
   ]
  },
  {
   "cell_type": "markdown",
   "metadata": {
    "slideshow": {
     "slide_type": "slide"
    }
   },
   "source": [
    "---\n",
    "\n",
    "## 3. Pour aller plus loin\n",
    "\n",
    "**Excercice 9:**\n",
    "\n",
    "Ecrire un programme qui permet de connaître le jour de naissance de l'utilisateur en posant cinq questions.\n",
    "Chaque question demande si le jour est dans l'un des cinq ensembles suivants :\n",
    "\n",
    "* Set 1: \\[1 3 5 7 9 11 13 15 17 19 21 23 25 27 29 31\\]\n",
    "* Set 2: \\[2 3 6 7 10 11 14 15 18 19 22 23 26 27 30 31\\]\n",
    "* Set 3: \\[4 5 6 7 12 13 14 15 20 21 22 23 28 29 30 31\\]\n",
    "* Set 4: \\[8 9 10 11 12 13 14 15 24 25 26 27 28 29 30 31\\]\n",
    "* Set 5: \\[16 17 18 19 20 21 22 23 24 25 26 27 28 29 30 31\\]\n",
    "    \n",
    "\n",
    "Le jour de naissance est la somme des premiers nombres dans les ensembles où le jour apparaît. Par exemple,\n",
    "si le jour de naissance est 19, il apparaît dans Set 1, Set 2 et Set 5. Les premiers chiffres de ces trois ensembles sont 1, 2 et 16. Leur somme est 19."
   ]
  },
  {
   "cell_type": "code",
   "execution_count": 1,
   "metadata": {
    "slideshow": {
     "slide_type": "notes"
    }
   },
   "outputs": [
    {
     "name": "stdout",
     "output_type": "stream",
     "text": [
      "Bonjour\n",
      "Laisser moi deviner votre jour de naissance en répondant à ces 5 question :\n",
      "Question 1 : Votre nombre apparaît-il dans cette liste : [1 3 5 7 9 11 13 15 17 19 21 23 25 27 29 31] ?\n",
      "Question 2 : Votre nombre apparaît-il dans cette liste : [2 3 6 7 10 11 14 15 18 19 22 23 26 27 30 31] ?\n",
      "Question 3 : Votre nombre apparaît-il dans cette liste : [4 5 6 7 12 13 14 15 20 21 22 23 28 29 30 31] ?\n",
      "Question 4 : Votre nombre apparaît-il dans cette liste : [8 9 10 11 12 13 14 15 24 25 26 27 28 29 30 31] ?\n",
      "Question 5 : Votre nombre apparaît-il dans cette liste : [16 17 18 19 20 21 22 23 24 25 26 27 28 29 30 31] ?\n"
     ]
    },
    {
     "ename": "KeyboardInterrupt",
     "evalue": "Interrupted by user",
     "output_type": "error",
     "traceback": [
      "\u001b[1;31m---------------------------------------------------------------------------\u001b[0m",
      "\u001b[1;31mKeyboardInterrupt\u001b[0m                         Traceback (most recent call last)",
      "Cell \u001b[1;32mIn [1], line 8\u001b[0m\n\u001b[0;32m      6\u001b[0m \u001b[39mprint\u001b[39m(\u001b[39m\"\u001b[39m\u001b[39mQuestion 4 : Votre nombre apparaît-il dans cette liste : [8 9 10 11 12 13 14 15 24 25 26 27 28 29 30 31] ?\u001b[39m\u001b[39m\"\u001b[39m)\n\u001b[0;32m      7\u001b[0m \u001b[39mprint\u001b[39m(\u001b[39m\"\u001b[39m\u001b[39mQuestion 5 : Votre nombre apparaît-il dans cette liste : [16 17 18 19 20 21 22 23 24 25 26 27 28 29 30 31] ?\u001b[39m\u001b[39m\"\u001b[39m)\n\u001b[1;32m----> 8\u001b[0m question1 \u001b[39m=\u001b[39m \u001b[39minput\u001b[39;49m(\u001b[39m\"\u001b[39;49m\u001b[39mLa réponse 1 est-elle Vrai ou Faux ?\u001b[39;49m\u001b[39m\"\u001b[39;49m)\n\u001b[0;32m      9\u001b[0m question2 \u001b[39m=\u001b[39m \u001b[39minput\u001b[39m(\u001b[39m\"\u001b[39m\u001b[39mLa réponse 2 est-elle Vrai ou Faux ?\u001b[39m\u001b[39m\"\u001b[39m)\n\u001b[0;32m     10\u001b[0m question3 \u001b[39m=\u001b[39m \u001b[39minput\u001b[39m(\u001b[39m\"\u001b[39m\u001b[39mLa réponse 3 est-elle Vrai ou Faux ?\u001b[39m\u001b[39m\"\u001b[39m)\n",
      "File \u001b[1;32mc:\\Users\\thoma\\miniconda3\\lib\\site-packages\\ipykernel\\kernelbase.py:1177\u001b[0m, in \u001b[0;36mKernel.raw_input\u001b[1;34m(self, prompt)\u001b[0m\n\u001b[0;32m   1173\u001b[0m \u001b[39mif\u001b[39;00m \u001b[39mnot\u001b[39;00m \u001b[39mself\u001b[39m\u001b[39m.\u001b[39m_allow_stdin:\n\u001b[0;32m   1174\u001b[0m     \u001b[39mraise\u001b[39;00m StdinNotImplementedError(\n\u001b[0;32m   1175\u001b[0m         \u001b[39m\"\u001b[39m\u001b[39mraw_input was called, but this frontend does not support input requests.\u001b[39m\u001b[39m\"\u001b[39m\n\u001b[0;32m   1176\u001b[0m     )\n\u001b[1;32m-> 1177\u001b[0m \u001b[39mreturn\u001b[39;00m \u001b[39mself\u001b[39;49m\u001b[39m.\u001b[39;49m_input_request(\n\u001b[0;32m   1178\u001b[0m     \u001b[39mstr\u001b[39;49m(prompt),\n\u001b[0;32m   1179\u001b[0m     \u001b[39mself\u001b[39;49m\u001b[39m.\u001b[39;49m_parent_ident[\u001b[39m\"\u001b[39;49m\u001b[39mshell\u001b[39;49m\u001b[39m\"\u001b[39;49m],\n\u001b[0;32m   1180\u001b[0m     \u001b[39mself\u001b[39;49m\u001b[39m.\u001b[39;49mget_parent(\u001b[39m\"\u001b[39;49m\u001b[39mshell\u001b[39;49m\u001b[39m\"\u001b[39;49m),\n\u001b[0;32m   1181\u001b[0m     password\u001b[39m=\u001b[39;49m\u001b[39mFalse\u001b[39;49;00m,\n\u001b[0;32m   1182\u001b[0m )\n",
      "File \u001b[1;32mc:\\Users\\thoma\\miniconda3\\lib\\site-packages\\ipykernel\\kernelbase.py:1219\u001b[0m, in \u001b[0;36mKernel._input_request\u001b[1;34m(self, prompt, ident, parent, password)\u001b[0m\n\u001b[0;32m   1216\u001b[0m             \u001b[39mbreak\u001b[39;00m\n\u001b[0;32m   1217\u001b[0m \u001b[39mexcept\u001b[39;00m \u001b[39mKeyboardInterrupt\u001b[39;00m:\n\u001b[0;32m   1218\u001b[0m     \u001b[39m# re-raise KeyboardInterrupt, to truncate traceback\u001b[39;00m\n\u001b[1;32m-> 1219\u001b[0m     \u001b[39mraise\u001b[39;00m \u001b[39mKeyboardInterrupt\u001b[39;00m(\u001b[39m\"\u001b[39m\u001b[39mInterrupted by user\u001b[39m\u001b[39m\"\u001b[39m) \u001b[39mfrom\u001b[39;00m \u001b[39mNone\u001b[39m\n\u001b[0;32m   1220\u001b[0m \u001b[39mexcept\u001b[39;00m \u001b[39mException\u001b[39;00m:\n\u001b[0;32m   1221\u001b[0m     \u001b[39mself\u001b[39m\u001b[39m.\u001b[39mlog\u001b[39m.\u001b[39mwarning(\u001b[39m\"\u001b[39m\u001b[39mInvalid Message:\u001b[39m\u001b[39m\"\u001b[39m, exc_info\u001b[39m=\u001b[39m\u001b[39mTrue\u001b[39;00m)\n",
      "\u001b[1;31mKeyboardInterrupt\u001b[0m: Interrupted by user"
     ]
    }
   ],
   "source": [
    "print(\"Bonjour\")\n",
    "print(\"Laisser moi deviner votre jour de naissance en répondant à ces 5 question :\")\n",
    "print(\"Question 1 : Votre nombre apparaît-il dans cette liste : [1 3 5 7 9 11 13 15 17 19 21 23 25 27 29 31] ?\")\n",
    "print(\"Question 2 : Votre nombre apparaît-il dans cette liste : [2 3 6 7 10 11 14 15 18 19 22 23 26 27 30 31] ?\")\n",
    "print(\"Question 3 : Votre nombre apparaît-il dans cette liste : [4 5 6 7 12 13 14 15 20 21 22 23 28 29 30 31] ?\")\n",
    "print(\"Question 4 : Votre nombre apparaît-il dans cette liste : [8 9 10 11 12 13 14 15 24 25 26 27 28 29 30 31] ?\")\n",
    "print(\"Question 5 : Votre nombre apparaît-il dans cette liste : [16 17 18 19 20 21 22 23 24 25 26 27 28 29 30 31] ?\")\n",
    "question1 = input(\"La réponse 1 est-elle Vrai ou Faux ?\")\n",
    "question2 = input(\"La réponse 2 est-elle Vrai ou Faux ?\")\n",
    "question3 = input(\"La réponse 3 est-elle Vrai ou Faux ?\")\n",
    "question4 = input(\"La réponse 4 est-elle Vrai ou Faux ?\")\n",
    "question5 = input(\"La réponse 5 est-elle Vrai ou Faux ?\")\n",
    "if question1 == \"Vrai\" :\n",
    "    reponse1 = 1\n",
    "else :\n",
    "    reponse1 = 0\n",
    "if question2 == \"Vrai\" :\n",
    "    reponse2 = 2\n",
    "else :\n",
    "    reponse2 = 0\n",
    "if question3 == \"Vrai\" :\n",
    "    reponse3 = 4\n",
    "else :\n",
    "    reponse3 = 0\n",
    "if question4 == \"Vrai\" :\n",
    "    reponse4 = 8\n",
    "else :\n",
    "    reponse4 = 0\n",
    "if question5 == \"Vrai\" :\n",
    "    reponse5 = 16\n",
    "else :\n",
    "    reponse5 = 0\n",
    "reponsefinal = reponse1 + reponse2 + reponse3 + reponse4 + reponse5\n",
    "print(\"Votre jour de naissance est\", reponsefinal)\n",
    "\n"
   ]
  },
  {
   "cell_type": "markdown",
   "metadata": {
    "slideshow": {
     "slide_type": "slide"
    }
   },
   "source": [
    "**Excercice 10:**\n",
    "\n",
    "Ecrire un programme qui permet de génèrer de manière aléatoire un nombre à deux chiffres, invite l'utilisateur à saisir un nombre à deux chiffres et détermine si l'utilisateur gagne selon les règles suivantes :\n",
    "* Si l'entrée de l'utilisateur correspond à la loterie (le nombre généré aléatoirement) dans l'ordre exact, la récompense est de 10 000€.\n",
    "* Sinon, si les deux chiffres entrés par l'utilisateur correspondent aux deux chiffres du numéro de loterie, la récompense est de 3 000€.\n",
    "* Sinon, si un chiffre dans l'entrée de l'utilisateur correspond à un chiffre dans le numéro de loterie, la récompense est de 1 000€.\n",
    "\n",
    "**Astuce :** Utiliser la fonction **random.randint(0, 99)** pour génèrer de manière aléatoire un nombre à deux chiffres. Cette fonction doit être accompagné par **import random** comme première instruction dans le code."
   ]
  },
  {
   "cell_type": "code",
   "execution_count": 2,
   "metadata": {
    "slideshow": {
     "slide_type": "notes"
    }
   },
   "outputs": [
    {
     "name": "stdout",
     "output_type": "stream",
     "text": [
      "Vous avez rien gagner\n",
      "1\n",
      "8\n",
      "Loto est = 18\n",
      "le choix est 00\n"
     ]
    }
   ],
   "source": [
    "import random\n",
    "loterie1 = random.randint(0,9)\n",
    "loterie2 = random.randint(0,9)\n",
    "loto = str(loterie1) + str(loterie2)\n",
    "loto2 = str(loterie2) + str(loterie1)\n",
    "chiffre1 = int(input(\"Entrer un premier chiffre entre 0 et 9\"))\n",
    "chiffre2 = int(input(\"Entrer un second chiffre entre 0 et 9\"))\n",
    "choix = str(chiffre1) + str(chiffre2)\n",
    "if int(choix) == int(loto) :\n",
    "    print (\"Vous avez gagnez 10 000 euros\")\n",
    "else :\n",
    "    if int(choix) == int(loto2) :\n",
    "        print(\"Vous avez gagnez 3 000 euros\")\n",
    "    else :\n",
    "        if int(loterie1) == int(chiffre1) or int(chiffre2) :\n",
    "            print(\"Vous avez gagnez 1 000 euros\")\n",
    "        else :\n",
    "            if int(loterie2) == int(chiffre1) or int(chiffre2) :\n",
    "                print(\"Vous avez gagnez 1 000 euros\")\n",
    "            else :\n",
    "                 print(\"Vous avez rien gagner\")\n",
    "print(loterie1)\n",
    "print(loterie2)\n",
    "print(\"Loto est =\", loto)\n",
    "print(\"le choix est\", choix)"
   ]
  },
  {
   "cell_type": "markdown",
   "metadata": {},
   "source": [
    "**Exercice 11:**\n",
    "    \n",
    "Ecrire un programme qui permet de calculer la somme des chiffres d'un entier *n* donné. Le nombre *n* doit être compris entre 10 et 20 (bornes incluses)."
   ]
  },
  {
   "cell_type": "code",
   "execution_count": 1,
   "metadata": {},
   "outputs": [
    {
     "name": "stdout",
     "output_type": "stream",
     "text": [
      "9\n"
     ]
    }
   ],
   "source": [
    "n = str(input(\"Entrer une valeur compris entre 10 et 20\"))\n",
    "s = 0\n",
    "for k in str(n):\n",
    "    s += int(k)\n",
    "    \n",
    "print(s)"
   ]
  },
  {
   "cell_type": "markdown",
   "metadata": {},
   "source": [
    "**Exercice 12:**\n",
    "\n",
    "1. Ecrire un programme qui permet de générer aléatoirement deux nombres entre 0 et 9, de calculer leurs différences (en valeur absolue), puis d'inviter l'utilisateur à répondre à la question suivante *que vaut abs(number1 - number2)?*. Le programme doit permettre à l'utilisateur de répondre plusieurs fois jusqu'à la saisie de la bonne réponse.\n",
    "2. Modifier le programme précédent de telle sorte qu'il génère cinq occurences à la suite invitant à répondre à la question précédente. A la fin, le programme affiche le nombre moyen de tentatives qu'il a fallu à l'utilisateur pour répondre à une question."
   ]
  },
  {
   "cell_type": "code",
   "execution_count": 94,
   "metadata": {
    "tags": []
   },
   "outputs": [
    {
     "name": "stdout",
     "output_type": "stream",
     "text": [
      "Que vaut : | 7 - 8 |\n",
      "Reessaye\n",
      "Bravo\n"
     ]
    }
   ],
   "source": [
    "import random\n",
    "aleatoire1 = random.randint(0,9)\n",
    "aleatoire2 = random.randint(0,9)\n",
    "aleatoire = aleatoire1 - aleatoire2\n",
    "if aleatoire < 0 :\n",
    "    aleatoire = aleatoire * -1\n",
    "print (\"Que vaut :\", \"|\", aleatoire1, \"-\", aleatoire2, \"|\")\n",
    "bonnereponse = -1\n",
    "while not bonnereponse == aleatoire :\n",
    "    bonnereponse = int(input(\"Quel est le résultat ?\"))\n",
    "    if bonnereponse == aleatoire :\n",
    "        print(\"Bravo\")\n",
    "    else :\n",
    "        print(\"Reessaye\")\n",
    "    "
   ]
  },
  {
   "cell_type": "code",
   "execution_count": 109,
   "metadata": {
    "tags": []
   },
   "outputs": [
    {
     "name": "stdout",
     "output_type": "stream",
     "text": [
      "Que vaut : | 9 - 5 |, Vous avez 5 essaies\n",
      "Reessaye\n",
      "Reessaye\n",
      "Reessaye\n",
      "Reessaye\n",
      "Reessaye\n"
     ]
    }
   ],
   "source": [
    "import random\n",
    "aleatoire1 = random.randint(0,9)\n",
    "aleatoire2 = random.randint(0,9)\n",
    "aleatoire = aleatoire1 - aleatoire2\n",
    "if aleatoire < 0 :\n",
    "    aleatoire = aleatoire * -1\n",
    "print (\"Que vaut :\", \"|\", aleatoire1, \"-\", aleatoire2, \"|, Vous avez 5 essaies\")\n",
    "bonnereponse = -1\n",
    "essaies = 0\n",
    "while not essaies == 5 :\n",
    "    essaies += 1\n",
    "    bonnereponse = int(input(\"Quel est le résultat ?\"))\n",
    "    if bonnereponse == aleatoire :\n",
    "        essaies = 5\n",
    "        print(\"Bravo\")\n",
    "    else :\n",
    "        print(\"Reessaye\")\n"
   ]
  },
  {
   "cell_type": "markdown",
   "metadata": {},
   "source": [
    "**Exercice 13:**\n",
    "\n",
    "Ecrire un programme qui permet de calculer le nombre de mots dans une phrase saisie par l'utilisateur."
   ]
  },
  {
   "cell_type": "code",
   "execution_count": 15,
   "metadata": {
    "tags": []
   },
   "outputs": [
    {
     "name": "stdout",
     "output_type": "stream",
     "text": [
      "35\n"
     ]
    }
   ],
   "source": [
    "n = str(input(\"Entrer une phrase\")).split(\" \")\n",
    "print(len(n))"
   ]
  },
  {
   "cell_type": "code",
   "execution_count": 16,
   "metadata": {},
   "outputs": [
    {
     "ename": "NameError",
     "evalue": "name 'split' is not defined",
     "output_type": "error",
     "traceback": [
      "\u001b[1;31m---------------------------------------------------------------------------\u001b[0m",
      "\u001b[1;31mNameError\u001b[0m                                 Traceback (most recent call last)",
      "Cell \u001b[1;32mIn [16], line 1\u001b[0m\n\u001b[1;32m----> 1\u001b[0m help(\u001b[43msplit\u001b[49m)\n",
      "\u001b[1;31mNameError\u001b[0m: name 'split' is not defined"
     ]
    }
   ],
   "source": [
    "help(split)"
   ]
  },
  {
   "cell_type": "markdown",
   "metadata": {
    "slideshow": {
     "slide_type": "slide"
    }
   },
   "source": [
    "---\n",
    "\n",
    "## 4. Pour s'entraîner\n",
    "\n",
    "**Exercice 14:**\n",
    "    \n",
    "Soit la variable my_input = \"zoophysiology\". Ecrire un script qui permet d'afficher l'un des messages suivants en fonction du nombre maximum de *o* consécutifs dans la variable *my_input*. Par exemple, le script doit afficher \"I like studying birds! I want to become an ornithologist!\" parce qu'il y a deux *o* consécutifs, même s'il y a aussi des *o* individual.\n",
    "Ignorer les *o* majuscules - recherchez que les *o* minuscules.\n",
    "\n",
    "* Si \"o\" apparaît trois fois ou plus de suite, afficher le message \"I like going to the zoo!\"  \n",
    "* Si \"o\" apparaît deux fois, afficher le message \"I like studying birds! I want to become an ornithologist!\"  \n",
    "* Si \"o\" apparaît une seule fois, afficher le message \"I like studying fish! I want to become an ichthyologist!\"  \n",
    "* Si \"o\" n'apparaît pas dans la variable *my_input*, afficher le message \"I miss going to the zoo!\"  \n",
    "\n",
    "**Astuce :** Utiliser l'opérateur **in** qui renvoie **True** si la première chaîne se trouve dans la deuxième chaîne. "
   ]
  },
  {
   "cell_type": "code",
   "execution_count": 25,
   "metadata": {
    "slideshow": {
     "slide_type": "notes"
    }
   },
   "outputs": [
    {
     "name": "stdout",
     "output_type": "stream",
     "text": [
      "I like studying birds! I want to become an ornithologist!\n"
     ]
    }
   ],
   "source": [
    "my_input = \"zoophysiology\"\n",
    "if \"ooo\" in my_input : \n",
    "    print(\"I like going to the zoo\")\n",
    "elif  \"oo\" in my_input : \n",
    "    print(\"I like studying birds! I want to become an ornithologist!\")\n",
    "elif \"o\" in my_input : \n",
    "    print(\"I like studying fish! I want to become an ichthyologist\")\n",
    "else :\n",
    "    print(\"I miss going to the zoo\")\n"
   ]
  },
  {
   "cell_type": "markdown",
   "metadata": {
    "slideshow": {
     "slide_type": "slide"
    }
   },
   "source": [
    "**Exercice 15:**\n",
    "    \n",
    "Créer quatre variables nommées *team_1* et *team_2*, représentant deux noms d'équipes, et *team_1_score* et *team_2_score*, représentant les scores de ces deux équipes. \n",
    "Une équipe gagne si son score est supérieur à l'autre score de l'autre équipe.\n",
    " \n",
    "Ecrire un premier script qui permet d'afficher les messages suivants selon les valeurs entrées, ceci en utilisant seulement les quatres variables créées :\n",
    "* Si une équipe bat l'autre, affichez: \"\\[winner\\] beat \\[loser\\] by \\[margin\\]\"\n",
    "* Si aucune des équipes n'a gagné, affichez: \"\\[team_1\\] played \\[team_2\\] and it was a tie\"\n",
    "\n",
    "Ecrire un deuxième script qui permet d'afficher les mêmes messages mais en ajoutant trois variables de plus :\n",
    "* La variable *winner* pour définir l'équipe gagnante  \n",
    "* La variable *loser* pour définier l'équipe perdante  \n",
    "* La variable *margin* pour définir la différence entre les deux scores \n"
   ]
  },
  {
   "cell_type": "code",
   "execution_count": 35,
   "metadata": {
    "slideshow": {
     "slide_type": "notes"
    }
   },
   "outputs": [
    {
     "name": "stdout",
     "output_type": "stream",
     "text": [
      "CONNAR played BATAR and it was a tie\n"
     ]
    }
   ],
   "source": [
    "team_1 = str(input(\"Entrer le nom de la première équipe\"))\n",
    "team_2 = str(input(\"Entrer le nom de la deuxième équipe\"))\n",
    "team_1_score = int(input(\"Entrer le score de l'équipe \" + team_1))\n",
    "team_2_score = int(input(\"Entrer le score de l'équipe \" + team_2))\n",
    "if team_1_score - team_2_score > 0 :\n",
    "    print( team_1, \"beat\", team_2, \"by\", (team_1_score - team_2_score) )\n",
    "if team_2_score - team_1_score > 0 :\n",
    "    print( team_2, \"beat\", team_1, \"by\", (team_2_score - team_1_score) )\n",
    "else :\n",
    "    print( team_1, \"played\", team_2, \"and it was a tie\")"
   ]
  },
  {
   "cell_type": "code",
   "execution_count": 49,
   "metadata": {
    "slideshow": {
     "slide_type": "notes"
    }
   },
   "outputs": [
    {
     "name": "stdout",
     "output_type": "stream",
     "text": [
      "CONNAR beat BATAR by 10\n",
      "CONNAR played BATAR and it was a tie\n"
     ]
    }
   ],
   "source": [
    "team_1 = str(input(\"Entrer le nom de la première équipe\"))\n",
    "team_2 = str(input(\"Entrer le nom de la deuxième équipe\"))\n",
    "team_1_score = int(input(\"Entrer le score de l'équipe \" + team_1))\n",
    "team_2_score = int(input(\"Entrer le score de l'équipe \" + team_2))\n",
    "winner = \"personne\"\n",
    "loser = \"personne\"\n",
    "margin = abs(team_1_score - team_2_score)\n",
    "if team_1_score - team_2_score > 0 :\n",
    "    winner, loser = team_1, team_2\n",
    "    print(winner, \"beat\", loser, \"by\", margin)\n",
    "if team_1_score - team_2_score < 0 :\n",
    "    winner, loser = team_2, team_1\n",
    "    print(winner, \"beat\", loser, \"by\", margin)\n",
    "else :\n",
    "    print( team_1, \"played\", team_2, \"and it was a tie\")\n"
   ]
  },
  {
   "cell_type": "code",
   "execution_count": 48,
   "metadata": {},
   "outputs": [
    {
     "name": "stdout",
     "output_type": "stream",
     "text": [
      "909\n"
     ]
    }
   ],
   "source": [
    "print(margin)"
   ]
  },
  {
   "cell_type": "markdown",
   "metadata": {
    "slideshow": {
     "slide_type": "slide"
    }
   },
   "source": [
    "**Exercice 16:**\n",
    "    \n",
    "L'Indice de Masse Corporelle (IMC) permet d'estimer le poids idéal en fonction de la taille. Son calcul correspond au poids en kilogrammes divisé par le carré de la taille en mètre (IMC = poids en kg/taille² en m). Le chiffre obtenu permet d'estimer la corpulence et éventuellement le surpoids ou l'obésité chez l'adulte, homme ou femme.\n",
    "L'interprétation de l'IMC pour les personnes de 16 ans et plus est la suivante :\n",
    "* Moins de 18.5: Underweight\n",
    "* Entre 18.5 et 24.9: Normal\n",
    "* Entre 25.0 et 29.9: Overweight\n",
    "* Plus que 30.0: Obese\n",
    "\n",
    "Ecrire un programme qui permet de saisir un poids en *pounds* et une taille en *inches*, de calculer et d'afficher l'IMC à deux valeurs après la virgule, et d'afficher l'interprétation la plus adéquate. Notez qu'un *pound* équivaut à 0,45359237 kilogrammes et qu'un *inch* équivaut à 0,0254 mètre.  \n",
    "\n",
    "**Astuce :** Pour afficher deux valeurs après la virgule, utilisez la fonction **format(nom_variable, \".2f\")**. Exemple : **print('La moyenne est :', format(moyenne, \".2f\"))**"
   ]
  },
  {
   "cell_type": "code",
   "execution_count": 51,
   "metadata": {
    "slideshow": {
     "slide_type": "notes"
    }
   },
   "outputs": [
    {
     "name": "stdout",
     "output_type": "stream",
     "text": [
      "Normal\n",
      "22.96\n"
     ]
    }
   ],
   "source": [
    "pound = float(input(\"Entrer votre poids en pound svp\"))\n",
    "poids_kg = pound * 0.45359237\n",
    "inches = float(input(\"Entrer votre taille en iches\"))\n",
    "taille = inches * 0.0254\n",
    "imc = poids_kg / (taille * taille)\n",
    "if imc < 18.5 :\n",
    "    print(\"Underweight\")\n",
    "elif imc < 24.9 :\n",
    "    print(\"Normal\")\n",
    "elif imc < 29.9 :\n",
    "    print(\"Overweilght\")\n",
    "elif imc < 30 :\n",
    "    print(\"Obese\")\n",
    "print(format(imc, \".2f\"))"
   ]
  },
  {
   "cell_type": "markdown",
   "metadata": {},
   "source": [
    "**Exercice 17:**\n",
    "\n",
    "Ecrire un programme qui affiche un triangle d'étoiles de taille donnée, par exemple si on entre 6, le programme affiche:\n",
    "```\n",
    "*\n",
    "**\n",
    "***\n",
    "****\n",
    "*****\n",
    "******\n",
    "```"
   ]
  },
  {
   "cell_type": "code",
   "execution_count": 55,
   "metadata": {
    "tags": []
   },
   "outputs": [
    {
     "name": "stdout",
     "output_type": "stream",
     "text": [
      "*\n",
      "**\n",
      "***\n",
      "****\n",
      "*****\n"
     ]
    }
   ],
   "source": [
    "n = int(input(\"entrer un nombre\"))\n",
    "for i in range(n) :\n",
    "    for o in range(i+1) :\n",
    "        print(\"*\", end=\"\")\n",
    "    print(\"\")\n"
   ]
  },
  {
   "cell_type": "markdown",
   "metadata": {},
   "source": [
    "**Exercice 18:**\n",
    "\n",
    "Même exercice mais cette fois la sortie est\n",
    "```\n",
    "     *\n",
    "    **         \n",
    "   ***\n",
    "  ****\n",
    " *****\n",
    "******\n",
    "```"
   ]
  },
  {
   "cell_type": "code",
   "execution_count": null,
   "metadata": {},
   "outputs": [],
   "source": [
    "n = input(\"Entrer un nombre\")\n",
    "for i in range (n) :\n",
    "    for o in range (n-i) :\n",
    "        print(\" \", en=\"\")\n",
    "    for a in range (i+1) :\n",
    "        print(\"*\", end=\"\")\n",
    "    print(\"\")"
   ]
  },
  {
   "cell_type": "code",
   "execution_count": null,
   "metadata": {
    "tags": []
   },
   "outputs": [],
   "source": [
    "n = int(input(\"entrer un nombre\"))\n",
    "for i in range(n) :\n",
    "    for a in range (n-i+1) :\n",
    "        print(\" \",end=\"\")\n",
    "    for o in range(i+1) :\n",
    "        print(\"*\", end=\"\")\n",
    "    print(\"\")"
   ]
  },
  {
   "cell_type": "markdown",
   "metadata": {},
   "source": [
    "**Exercice 19:**\n",
    "\n",
    "Ecrire un programme qui calcule, étant donné un entier *n* rentré par l'utilisateur, la plus grande puissance de *n* inférieure à un million."
   ]
  },
  {
   "cell_type": "code",
   "execution_count": 16,
   "metadata": {
    "tags": []
   },
   "outputs": [
    {
     "name": "stdout",
     "output_type": "stream",
     "text": [
      "La plus grande puissance de 2 qui est inférieure à un million est 2 ^ 19\n"
     ]
    }
   ],
   "source": [
    "n = int(input(\"Entrer un nombre\"))\n",
    "puissance = 0\n",
    "while n ** puissance < 1000000 :\n",
    "    puissance += 1\n",
    "print (\"La plus grande puissance de\", n, \"qui est inférieure à un million est\", n, \"^\", (puissance-1))\n",
    "\n"
   ]
  }
 ],
 "metadata": {
  "celltoolbar": "Diaporama",
  "kernelspec": {
   "display_name": "Python 3.9.12 ('base')",
   "language": "python",
   "name": "python3"
  },
  "language_info": {
   "codemirror_mode": {
    "name": "ipython",
    "version": 3
   },
   "file_extension": ".py",
   "mimetype": "text/x-python",
   "name": "python",
   "nbconvert_exporter": "python",
   "pygments_lexer": "ipython3",
   "version": "3.9.12"
  },
  "vscode": {
   "interpreter": {
    "hash": "7d380fc7ac46829517b76c2732d16c710177d39ebcdab1a4e48fee17717cbac9"
   }
  }
 },
 "nbformat": 4,
 "nbformat_minor": 4
}
